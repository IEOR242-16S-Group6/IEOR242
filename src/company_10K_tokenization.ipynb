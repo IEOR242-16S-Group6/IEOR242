{
 "cells": [
  {
   "cell_type": "code",
   "execution_count": 1,
   "metadata": {
    "collapsed": true
   },
   "outputs": [],
   "source": [
    "#!/bin/env python\n",
    "# coding: utf-8\n",
    "# company_10K_tokenization.py\n",
    "# IEOR242 Applications in Data Analytics Group 06\n",
    "# Feb 14 2016"
   ]
  },
  {
   "cell_type": "code",
   "execution_count": 6,
   "metadata": {
    "collapsed": true
   },
   "outputs": [],
   "source": [
    "import nltk\n",
    "from nltk.corpus import stopwords\n",
    "from nltk import stem\n",
    "import re\n",
    "from collections import Counter"
   ]
  },
  {
   "cell_type": "code",
   "execution_count": 58,
   "metadata": {
    "collapsed": true
   },
   "outputs": [],
   "source": [
    "#def word_tokenization( text_file ):\n",
    "#    raw_text = open(text_file).read().decode('utf8')\n",
    "    # Stemming\n",
    "#    pattern = re.compile(r'\\b(' + r'|'.join(stopwords.words('english')) + r')\\b\\s*')\n",
    "#    non_stop_text = pattern.sub('', raw_text)\n",
    "    # Tokenization\n",
    "#    word_token = nltk.word_tokenize(non_stop_text)\n",
    "    # Count the word frequency\n",
    "#    word_count = Counter(word_token)\n",
    "#    return word_count"
   ]
  },
  {
   "cell_type": "code",
   "execution_count": 12,
   "metadata": {
    "collapsed": true
   },
   "outputs": [],
   "source": [
    "def word_tokenization( text_file ):\n",
    "    raw_text = open(text_file).read().decode('utf8')\n",
    "    raw_text = raw_text.encode('ascii','ignore')\n",
    "    #Removing numbers and characters\n",
    "    letters_only = re.sub(\"[^a-zA-Z]\", \" \", raw_text)\n",
    "    #Converting to lower case\n",
    "    letters_only = letters_only.lower() \n",
    "    #Tokenization\n",
    "    word_token = nltk.word_tokenize(letters_only)\n",
    "    # Removing Stop Words\n",
    "    word_token = [w for w in word_token if not w in stopwords.words(\"english\")]\n",
    "    # Stemming\n",
    "    word_token_final=[]\n",
    "    for word in word_token:\n",
    "        try:\n",
    "            word_token_final.append(stemmer.stem(word))\n",
    "        except:\n",
    "            word_token_final.append(word)\n",
    "    # Word frequency\n",
    "    word_count_final = Counter(word_token_final)\n",
    "    return word_count_final"
   ]
  },
  {
   "cell_type": "code",
   "execution_count": 13,
   "metadata": {
    "collapsed": false
   },
   "outputs": [],
   "source": [
    "stemmer=stem.PorterStemmer()"
   ]
  },
  {
   "cell_type": "code",
   "execution_count": 14,
   "metadata": {
    "collapsed": true
   },
   "outputs": [],
   "source": [
    "# Company names and years in use\n",
    "company_years = ['CP2012', 'CP2013', 'CP2014', 'PG2012', 'PG2013']"
   ]
  },
  {
   "cell_type": "code",
   "execution_count": 15,
   "metadata": {
    "collapsed": false
   },
   "outputs": [],
   "source": [
    "# Paths to the MDNA parts from the scrapped company 10K files\n",
    "MDNA_files = [\"../data/company10k/\" + company_years[i] + \"_MDNA.txt\" for i in range(len(company_years))]"
   ]
  },
  {
   "cell_type": "code",
   "execution_count": 16,
   "metadata": {
    "collapsed": false
   },
   "outputs": [],
   "source": [
    "# Word counts of all the MDNA files\n",
    "word_counts = [word_tokenization(MDNA_files[i]) for i in range(len(MDNA_files))]"
   ]
  },
  {
   "cell_type": "code",
   "execution_count": 17,
   "metadata": {
    "collapsed": false
   },
   "outputs": [
    {
     "data": {
      "text/plain": [
       "Counter({u'compani': 220, u'sale': 207, u'increas': 192, u'net': 168, u'cost': 145, u'profit': 116, u'oper': 102, u'rate': 91, u'relat': 86, u'expens': 85, u'growth': 81, u'bp': 79, u'sell': 73, u'charg': 72, u'busi': 71, u'program': 69, u'incom': 64, u'includ': 64, u'gener': 60, u'initi': 60, u'year': 60, u'foreign': 60, u'restructur': 58, u'exchang': 56, u'share': 55, u'price': 55, u'gross': 53, u'offset': 52, u'administr': 49, u'impact': 49, u'chang': 47, u'result': 47, u'decemb': 47, u'asset': 46, u'care': 46, u'market': 45, u'america': 45, u'partial': 44, u'save': 44, u'due': 44, u'venezuela': 43, u'organ': 43, u'cash': 43, u'financi': 42, u'decreas': 40, u'non': 39, u'plan': 38, u'use': 37, u'gaap': 36, u'percentag': 36, u'currenc': 35, u'volum': 35, u'note': 35, u'driven': 35, u'invest': 35, u'benefit': 34, u'product': 34, u'higher': 33, u'primarili': 32, u'expect': 31, u'statement': 31, u'also': 31, u'u': 31, u'tax': 30, u'estim': 30, u'end': 29, u'gain': 29, u'manag': 29, u'global': 28, u'approxim': 28, u'continu': 28, u'materi': 28, u'aftertax': 27, u'total': 27, u'exclud': 27, u'devalu': 27, u'valu': 26, u'term': 26, u'stock': 26, u'earn': 26, u'interest': 26, u'mexico': 26, u'implement': 26, u'person': 26, u'basi': 25, u'categori': 25, u'realign': 25, u'per': 25, u'quarter': 24, u'matter': 24, u'nutrit': 24, u'fund': 24, u'margin': 24, u'competit': 24, u'effect': 24, u'base': 23, u'contribut': 23, u'debt': 23, u'respect': 23, u'pet': 23, u'compar': 22, u'colgat': 22, u'law': 22, u'associ': 22, u'segment': 22, u'latin': 22, u'europ': 22, u'measur': 22, u'amount': 21, u'africa': 21, u'consolid': 21, u'home': 21, u'core': 21, u'land': 21, u'oral': 21, u'item': 20, u'would': 20, u'inform': 20, u'report': 20, u'requir': 20, u'north': 20, u'current': 19, u'account': 19, u'eurasia': 19, u'long': 19, u'dollar': 18, u'pacif': 18, u'fix': 18, u'hill': 18, u'south': 18, u'addit': 18, u'palmol': 18, u'time': 18, u'neg': 17, u'asia': 17, u'capit': 17, u'discuss': 17, u'payment': 17, u'common': 17, u'fair': 17, u'attribut': 17, u'advertis': 17, u'futur': 17, u'commerci': 16, u'control': 16, u'facil': 16, u'period': 16, u'raw': 16, u'loss': 16, u'credit': 16, u'corpor': 16, u'signific': 15, u'new': 15, u'flow': 15, u'variou': 15, u'cp': 15, u'risk': 14, u'issu': 14, u'transact': 14, u'purchas': 14, u'worldwid': 13, u'may': 13, u'polici': 13, u'one': 13, u'acquisit': 13, u'provid': 13, u'posit': 13, u'packag': 13, u'local': 13, u'contract': 13, u'lower': 13, u'deterg': 13, u'divest': 13, u'subsidiari': 13, u'certain': 13, u'strong': 12, u'describ': 12, u'impair': 12, u'project': 12, u'assumpt': 12, u'sicad': 12, u'unit': 12, u'venezuelan': 12, u'line': 12, u'follow': 11, u'govern': 11, u'repurchas': 11, u'franc': 11, u'date': 11, u'perform': 11, u'return': 11, u'countri': 11, u'sanex': 11, u'develop': 11, u'pretax': 11, u'pension': 11, u'compens': 10, u'second': 10, u'ongo': 10, u'overhead': 10, u'remain': 10, u'fourth': 10, u'differ': 10, u'believ': 10, u'could': 10, u'option': 10, u'balanc': 10, u'issuanc': 10, u'factor': 10, u'import': 10, u'dividend': 10, u'annual': 10, u'region': 10, u'dilut': 10, u'well': 10, u'versu': 10, u'legal': 9, u'fuert': 9, u'french': 9, u'employe': 9, u'paper': 9, u'proce': 9, u'colombia': 9, u'data': 9, u'part': 9, u'incur': 9, u'histor': 9, u'determin': 9, u'activ': 9, u'commod': 9, u'bolivar': 9, u'servic': 9, u'defin': 9, u'liabil': 9, u'reduc': 9, u'consum': 8, u'hedg': 8, u'affect': 8, u'declin': 8, u'toothpast': 8, u'laundri': 8, u'oblig': 8, u'conting': 8, u'million': 8, u'need': 8, u'borrow': 8, u'see': 8, u'toothbrush': 8, u'uncertainti': 8, u'point': 8, u'repres': 8, u'present': 8, u'substanti': 8, u'split': 8, u'applic': 8, u'remeasur': 8, u'manual': 8, u'intern': 8, u'condit': 8, u'refer': 8, u'effici': 8, u'within': 8, u'compon': 8, u'avail': 8, u'consist': 8, u'record': 8, u'matur': 8, u'abil': 7, u'work': 7, u'secur': 7, u'reflect': 7, u'inventori': 7, u'anticip': 7, u'third': 7, u'structur': 7, u'outstand': 7, u'exposur': 7, u'held': 7, u'subject': 7, u'volatil': 7, u'strategi': 7, u'tabl': 7, u'author': 7, u'make': 7, u'econom': 7, u'exit': 7, u'discount': 7, u'forward': 7, u'retir': 7, u'level': 6, u'geograph': 6, u'natur': 6, u'two': 6, u'purpos': 6, u'high': 6, u'averag': 6, u'environ': 6, u'first': 6, u'rang': 6, u'expenditur': 6, u'denomin': 6, u'retire': 6, u'equiti': 6, u'postretir': 6, u'assum': 6, u'repatri': 6, u'site': 6, u'sever': 6, u'receiv': 6, u'unilev': 6, u'instrument': 6, u'board': 6, u'assess': 6, u'custom': 6, u'fluctuat': 6, u'intang': 6, u'consid': 6, u'consider': 5, u'focus': 5, u'swap': 5, u'adjust': 5, u'trend': 5, u'aggreg': 5, u'access': 5, u'deriv': 5, u'auction': 5, u'monetari': 5, u'enhanc': 5, u'actual': 5, u'prepar': 5, u'focu': 5, u'fulfil': 5, u'challeng': 5, u'occur': 5, u'enter': 5, u'help': 5, u'offici': 5, u'approv': 5, u'labor': 5, u'greater': 5, u'bond': 5, u'outsid': 5, u'number': 5, u'cumul': 5, u'termin': 5, u'increment': 5, u'build': 5, u'sector': 5, u'directli': 5, u'method': 5, u'mainli': 5, u'state': 5, u'key': 5, u'look': 5, u'upon': 5, u'inflat': 5, u'judgment': 5, u'select': 5, u'expos': 5, u'realiz': 5, u'five': 5, u'world': 5, u'soap': 5, u'limit': 5, u'form': 5, u'translat': 5, u'depreci': 5, u'dish': 4, u'sustain': 4, u'util': 4, u'ten': 4, u'unreal': 4, u'led': 4, u'k': 4, u'instal': 4, u'establish': 4, u'award': 4, u'indic': 4, u'critic': 4, u'cours': 4, u'practic': 4, u'trade': 4, u'januari': 4, u'reduct': 4, u'health': 4, u'qualifi': 4, u'domest': 4, u'retail': 4, u'restrict': 4, u'sheet': 4, u'carryforward': 4, u'grew': 4, u'complet': 4, u'combin': 4, u'regard': 4, u'paid': 4, u'financ': 4, u'contain': 4, u'mouthwash': 4, u'close': 4, u'voluntari': 4, u'experi': 4, u'protect': 4, u'suppli': 4, u'ultim': 4, u'three': 4, u'properti': 4, u'technolog': 4, u'parti': 4, u'goodwil': 4, u'expans': 4, u'hand': 4, u'capabl': 4, u'undertaken': 4, u'spend': 4, u'previous': 4, u'march': 4, u'success': 4, u'agreement': 4, u'proceed': 4, u'central': 4, u'commit': 4, u'underli': 4, u'area': 4, u'transfer': 4, u'highli': 4, u'analysi': 4, u'indefinit': 4, u'allow': 4, u'event': 4, u'compet': 4, u'variabl': 4, u'portion': 4, u'emerg': 4, u'supplement': 3, u'schole': 3, u'quantit': 3, u'sinc': 3, u'sourc': 3, u'live': 3, u'decis': 3, u'flat': 3, u'particular': 3, u'meet': 3, u'nonperform': 3, u'resourc': 3, u'novemb': 3, u'short': 3, u'maintain': 3, u'order': 3, u'major': 3, u'equival': 3, u'japan': 3, u'streamlin': 3, u'monitor': 3, u'offic': 3, u'puerto': 3, u'strateg': 3, u'investor': 3, u'bank': 3, u'februari': 3, u'weight': 3, u'advanc': 3, u'director': 3, u'target': 3, u'alreadi': 3, u'citi': 3, u'final': 3, u'seek': 3, u'hub': 3, u'payabl': 3, u'portfolio': 3, u'locat': 3, u'acquir': 3, u'manufactur': 3, u'rico': 3, u'black': 3, u'yield': 3, u'septemb': 3, u'accord': 3, u'respons': 3, u'best': 3, u'innov': 3, u'review': 3, u'particip': 3, u'sold': 3, u'howev': 3, u'acceler': 3, u'territori': 3, u'advers': 3, u'life': 3, u'regul': 3, u'summari': 3, u'uncertain': 3, u'calcul': 3, u'expir': 3, u'ship': 3, u'medic': 3, u'handl': 3, u'optim': 3, u'improv': 3, u'expand': 3, u'recent': 3, u'exampl': 3, u'model': 3, u'specif': 3, u'either': 3, u'function': 3, u'sharehold': 3, u'commenc': 3, u'throughout': 3, u'lead': 3, u'normal': 3, u'reconcili': 3, u'leadership': 3, u'caricom': 3, u'ensur': 3, u'announc': 3, u'leverag': 3, u'brand': 3, u'connect': 3, u'involv': 3, u'withhold': 3, u'chain': 2, u'soften': 2, u'four': 2, u'unrest': 2, u'privat': 2, u'recognit': 2, u'disclos': 2, u'difficult': 2, u'qualit': 2, u'direct': 2, u'even': 2, u'section': 2, u'supplier': 2, u'ground': 2, u'revenu': 2, u'observ': 2, u'prior': 2, u'prescript': 2, u'formul': 2, u'taken': 2, u'exce': 2, u'known': 2, u'effort': 2, u'grant': 2, u'v': 2, u'registr': 2, u'noncompli': 2, u'polit': 2, u'liquid': 2, u'revolv': 2, u'reloc': 2, u'mexican': 2, u'still': 2, u'preced': 2, u'complex': 2, u'overal': 2, u'accrual': 2, u'therebi': 2, u'separ': 2, u'cadivi': 2, u'recogn': 2, u'open': 2, u'research': 2, u'unrecogn': 2, u'standard': 2, u'reason': 2, u'unabl': 2, u'unlik': 2, u'size': 2, u'capac': 2, u'construct': 2, u'shelf': 2, u'juli': 2, u'wide': 2, u'arrang': 2, u'russia': 2, u'deliv': 2, u'take': 2, u'caus': 2, u'strength': 2, u'accuraci': 2, u'divers': 2, u'distribut': 2, u'object': 2, u'larg': 2, u'phase': 2, u'repay': 2, u'simplif': 2, u'drive': 2, u'contractu': 2, u'fifo': 2, u'incept': 2, u'gel': 2, u'bar': 2, u'float': 2, u'reserv': 2, u'shower': 2, u'extend': 2, u'altern': 2, u'last': 2, u'thereaft': 2, u'april': 2, u'unclear': 2, u'becom': 2, u'accumul': 2, u'macroeconom': 2, u'unfavor': 2, u'togeth': 2, u'heighten': 2, u'solid': 2, u'n': 2, u'outcom': 2, u'therefor': 2, u'government': 2, u'smarter': 2, u'oil': 2, u'fiscal': 2, u'counterparti': 2, u'extern': 2, u'inflationari': 2, u'center': 2, u'less': 2, u'priorit': 2, u'aris': 2, u'exercis': 2, u'input': 2, u'princip': 2, u'necessari': 2, u'broad': 2, u'substitut': 2, u'although': 2, u'valuat': 2, u'opportun': 2, u'accordingli': 2, u'fabric': 2, u'suffici': 2, u'support': 2, u'ago': 2, u'mitig': 2, u'counsel': 2, u'made': 2, u'possibl': 2, u'similar': 2, u'evalu': 2, u'exist': 2, u'guidanc': 2, u'detail': 2, u'vendor': 2, u'book': 2, u'varieti': 2, u'diet': 2, u'faster': 2, u'treasuri': 2, u'code': 1, u'definit': 1, u'settlement': 1, u'depend': 1, u'quarterli': 1, u'rel': 1, u'environment': 1, u'becam': 1, u'indemn': 1, u'introduc': 1, u'prepaid': 1, u'rise': 1, u'mechan': 1, u'month': 1, u'independ': 1, u'fewer': 1, u'team': 1, u'enjoy': 1, u'outlin': 1, u'design': 1, u'durat': 1, u'sub': 1, u'worthi': 1, u'abl': 1, u'conduct': 1, u'corn': 1, u'movement': 1, u'simplifi': 1, u'full': 1, u'evolv': 1, u'modif': 1, u'along': 1, u'realloc': 1, u'china': 1, u'ahead': 1, u'invit': 1, u'shift': 1, u'healthier': 1, u'action': 1, u'win': 1, u'leav': 1, u'soybean': 1, u'wholesal': 1, u'aggress': 1, u'pulp': 1, u'distinct': 1, u'predict': 1, u'tightli': 1, u'equip': 1, u'benchmark': 1, u'plant': 1, u'accept': 1, u'saharan': 1, u'valuabl': 1, u'undistribut': 1, u'minimum': 1, u'claim': 1, u'process': 1, u'workforc': 1, u'unus': 1, u'goal': 1, u'write': 1, u'get': 1, u'classifi': 1, u'divis': 1, u'alway': 1, u'verifi': 1, u'tropic': 1, u'forese': 1, u'grow': 1, u'alloc': 1, u'essenti': 1, u'fee': 1, u'minim': 1, u'correspond': 1, u'deposit': 1, u'opinion': 1, u'six': 1, u'insight': 1, u'caucasu': 1, u'cross': 1, u'vari': 1, u'entiti': 1, u'superior': 1, u'lo': 1, u'late': 1, u'whether': 1, u'persist': 1, u'comprehens': 1, u'main': 1, u'disburs': 1, u'good': 1, u'introduct': 1, u'name': 1, u'compris': 1, u'presenc': 1, u'prohibit': 1, u'receipt': 1, u'imposit': 1, u'stronger': 1, u'distributor': 1, u'dispos': 1, u'special': 1, u'canada': 1, u'network': 1, u'space': 1, u're': 1, u'shipment': 1, u'forti': 1, u'integr': 1, u'difficulti': 1, u'reclassifi': 1, u'asu': 1, u'regulatori': 1, u'free': 1, u'california': 1, u'advisor': 1, u'releas': 1, u'likelihood': 1, u'recast': 1, u'syndic': 1, u'length': 1, u'greec': 1, u'organiz': 1, u'indebted': 1, u'shopper': 1, u'refin': 1, u'qualiti': 1, u'done': 1, u'least': 1, u'given': 1, u'system': 1, u'defer': 1, u'tom': 1, u'euro': 1, u'relationship': 1, u'revalu': 1, u'circumst': 1, u'specifi': 1, u'fasb': 1, u'consult': 1, u'shampoo': 1, u'india': 1, u'toward': 1, u'typic': 1, u'provis': 1, u'prospect': 1, u'cleaner': 1, u'angel': 1, u'strengthen': 1, u'pertain': 1, u'actuari': 1, u'expropri': 1, u'outbound': 1, u'advic': 1, u'latter': 1, u'morristown': 1, u'techniqu': 1, u'singl': 1, u'predominantli': 1, u'underarm': 1, u'begin': 1, u'deploy': 1, u'mississauga': 1, u'reform': 1, u'coven': 1, u'principl': 1, u'logist': 1, u'notion': 1, u'fact': 1, u'jurisdict': 1, u'pursuant': 1, u'merit': 1, u'bring': 1, u'stringent': 1, u'freight': 1, u'fine': 1, u'staff': 1, u'bind': 1, u'estat': 1, u'fuel': 1, u'analyt': 1, u'meant': 1, u'serv': 1, u'move': 1, u'cautionari': 1, u'mission': 1, u'regularli': 1, u'budget': 1, u'enabl': 1, u'remot': 1, u'frame': 1, u'tallow': 1, u'preliminarili': 1, u'conform': 1, u'art': 1, u'habit': 1, u'sensit': 1, u'knowledg': 1, u'mandatori': 1, u'brazil': 1, u'statu': 1, u'forecast': 1, u'amort': 1, u'isol': 1, u'complianc': 1, u'consumpt': 1, u'come': 1, u'instanc': 1, u'committe': 1, u'jersey': 1, u'among': 1, u'overview': 1, u'residu': 1, u'summar': 1, u'turkey': 1, u'better': 1, u'creat': 1, u'recur': 1, u'lawsuit': 1, u'interpret': 1, u'taxabl': 1, u'curtail': 1, u'lifo': 1, u'moreov': 1, u'case': 1, u'lesser': 1, u'real': 1, u'engag': 1, u'advantag': 1, u'readi': 1, u'cluster': 1, u'warehous': 1, u'revis': 1, u'remitt': 1, u'statutori': 1, u'audit': 1, u'unconsolid': 1, u'philippin': 1, u'poultri': 1, u'likewis': 1, u'intercompani': 1, u'sec': 1, u'sporad': 1, u'identifi': 1, u'execut': 1, u'obtain': 1, u'collabor': 1, u'interim': 1, u'speed': 1, u'sku': 1, u'mix': 1, u'except': 1, u'day': 1, u'schedul': 1, u'subsequ': 1, u'match': 1, u'kingdom': 1, u'australia': 1, u'around': 1, u'like': 1, u'draw': 1, u'supplementari': 1, u'exceed': 1, u'right': 1, u'maxim': 1, u'resin': 1, u'indirect': 1, u'competitor': 1, u'reinvest': 1, u'achiev': 1, u'demolit': 1, u'leas': 1, u'veterinari': 1, u'merton': 1, u'undertak': 1, u'dental': 1, u'view': 1, u'plc': 1, u'promot': 1, u'thailand': 1, u'post': 1, u'impos': 1, u'payout': 1, u'srl': 1, u'degre': 1, u'stand': 1, u'act': 1, u'industri': 1, u'produc': 1, u'ordinari': 1, u'outlook': 1, u'owe': 1, u'profession': 1, u'liabl': 1, u'updat': 1, u'specul': 1, u'captur': 1, u'outflow': 1, u'medium': 1, u'litig': 1, u'evolut': 1, u'default': 1, u'caution': 1, u'maximum': 1, u'wareh': 1, u'veterinarian': 1, u'curv': 1, u'featur': 1, u'proven': 1, u'rule': 1, u'guarante': 1, u'encompass': 1, u'quantiti': 1, u'prevail': 1, u'multin': 1, u'probabl': 1, u'pronounc': 1, u'marketplac': 1, u'tight': 1, u'nielsen': 1, u'test': 1, u'roll': 1, u'resolut': 1, u'intend': 1, u'fulli': 1, u'june': 1, u'intent': 1, u'began': 1, u'reliabl': 1, u'descript': 1, u'remit': 1, u'potenti': 1, u'daili': 1})"
      ]
     },
     "execution_count": 17,
     "metadata": {},
     "output_type": "execute_result"
    }
   ],
   "source": [
    "word_counts[1]"
   ]
  },
  {
   "cell_type": "code",
   "execution_count": 18,
   "metadata": {
    "collapsed": false
   },
   "outputs": [
    {
     "data": {
      "text/plain": [
       "Counter({u'net': 250, u'increas': 182, u'sale': 181, u'care': 176, u'market': 170, u'year': 131, u'due': 120, u'impact': 109, u'earn': 109, u'share': 103, u'oper': 103, u'cash': 103, u'tax': 99, u'rate': 98, u'busi': 95, u'growth': 94, u'cost': 92, u'volum': 91, u'decreas': 87, u'fiscal': 86, u'digit': 84, u'develop': 83, u'singl': 83, u'product': 81, u'global': 80, u'billion': 80, u'point': 77, u'includ': 75, u'asset': 72, u'result': 68, u'price': 66, u'offset': 65, u'segment': 62, u'basi': 61, u'flow': 60, u'margin': 60, u'plan': 58, u'primarili': 57, u'chang': 56, u'million': 56, u'region': 56, u'financi': 52, u'statement': 51, u'partial': 49, u'manag': 49, u'exchang': 48, u'low': 47, u'valu': 45, u'activ': 44, u'impair': 44, u'use': 43, u'incom': 43, u'compani': 42, u'charg': 41, u'divestitur': 40, u'prior': 38, u'estim': 38, u'brand': 38, u'categori': 37, u'organ': 37, u'compar': 36, u'acquisit': 36, u'report': 36, u'foreign': 36, u'gross': 36, u'certain': 35, u'mix': 34, u'intang': 34, u'currenc': 33, u'continu': 33, u'mid': 33, u'higher': 33, u'addit': 33, u'unit': 32, u'interest': 31, u'save': 31, u'relat': 30, u'health': 30, u'futur': 30, u'expect': 29, u'free': 29, u'amount': 28, u'approxim': 28, u'account': 28, u'reduc': 28, u'benefit': 28, u'period': 28, u'competit': 28, u'corpor': 28, u'fabric': 28, u'babi': 28, u'u': 28, u'base': 27, u'home': 27, u'geograph': 26, u'june': 26, u'also': 25, u'factor': 25, u'contract': 25, u'measur': 25, u'per': 25, u'current': 24, u'gener': 24, u'famili': 24, u'live': 24, u'beauti': 24, u'consolid': 24, u'fair': 24, u'applianc': 24, u'goodwil': 24, u'expans': 24, u'declin': 23, u'item': 23, u'manufactur': 23, u'spend': 23, u'gain': 23, u'risk': 22, u'commod': 22, u'sg': 22, u'provid': 22, u'behind': 22, u'percentag': 22, u'posit': 21, u'driven': 21, u'devalu': 21, u'expens': 21, u'capit': 20, u'non': 20, u'adjust': 20, u'balanc': 20, u'determin': 20, u'exposur': 20, u'restructur': 20, u'effect': 20, u'invest': 20, u'inform': 19, u'discuss': 19, u'term': 19, u'debt': 19, u'lower': 19, u'condit': 19, u'groom': 19, u'neg': 18, u'total': 18, u'reflect': 18, u'believ': 18, u'part': 18, u'innov': 18, u'purchas': 18, u'unfavor': 18, u'signific': 17, u'salon': 17, u'mainli': 17, u'number': 17, u'requir': 17, u'liabil': 17, u'fund': 17, u'defin': 17, u'core': 17, u'indefinit': 17, u'compet': 17, u'may': 16, u'offici': 16, u'overal': 16, u'vs': 16, u'underli': 16, u'profession': 16, u'time': 16, u'abil': 15, u'overhead': 15, u'contribut': 15, u'half': 15, u'note': 15, u'local': 15, u'assumpt': 15, u'dilut': 15, u'larg': 15, u'materi': 15, u'reduct': 15, u'line': 15, u'evalu': 15, u'pension': 15, u'gaap': 14, u'initi': 14, u'venezuela': 14, u'could': 14, u'one': 14, u'econom': 14, u'feminin': 14, u'support': 14, u'consist': 14, u'ep': 14, u'new': 13, u'elimin': 13, u'averag': 13, u'return': 13, u'oblig': 13, u'sell': 13, u'america': 13, u'snack': 13, u'govern': 13, u'dividend': 13, u'annual': 13, u'less': 13, u'avail': 13, u'forward': 13, u'repres': 13, u'dollar': 12, u'follow': 12, u'hedg': 12, u'n': 12, u'defer': 12, u'level': 12, u'differ': 12, u'respect': 12, u'present': 12, u'look': 12, u'person': 12, u'europ': 12, u'refer': 12, u'payment': 12, u'opeb': 11, u'consum': 11, u'would': 11, u'high': 11, u'liquid': 11, u'entiti': 11, u'polici': 11, u'event': 11, u'credit': 11, u'instrument': 11, u'versu': 11, u'pet': 11, u'test': 11, u'oral': 11, u'repurchas': 10, u'natur': 10, u'histor': 10, u'end': 10, u'exclud': 10, u'comprehens': 10, u'februari': 10, u'rel': 10, u'success': 10, u'carri': 10, u'western': 10, u'facil': 10, u'need': 10, u'transact': 10, u'grew': 10, u'countri': 10, u'well': 10, u'day': 10, u'disproportion': 10, u'hair': 10, u'scale': 10, u'discount': 10, u'bp': 10, u'custom': 10, u'record': 10, u'north': 10, u'improv': 10, u'program': 9, u'financ': 9, u'compens': 9, u'md': 9, u'inventori': 9, u'leverag': 9, u'sheet': 9, u'project': 9, u'environ': 9, u'acquir': 9, u'outstand': 9, u'key': 9, u'batteri': 9, u'macroeconom': 9, u'long': 9, u'depend': 8, u'section': 8, u'deriv': 8, u'technolog': 8, u'prestig': 8, u'must': 8, u'discontinu': 8, u'remain': 8, u'control': 8, u'secur': 8, u'law': 8, u'maintain': 8, u'paper': 8, u'short': 8, u'structur': 8, u'contractu': 8, u'joint': 8, u'uncertain': 8, u'applic': 8, u'competitor': 8, u'achiev': 8, u'leader': 8, u'monetari': 8, u'detail': 8, u'ventur': 8, u'legal': 8, u'receiv': 8, u'p': 7, u'trend': 7, u'employe': 7, u'hold': 7, u'good': 7, u'compris': 7, u'variabl': 7, u'g': 7, u'recent': 7, u'braun': 7, u'increment': 7, u'deliv': 7, u'distribut': 7, u'discretionari': 7, u'incur': 7, u'portfolio': 7, u'gbu': 7, u'sold': 7, u'strategi': 7, u'life': 7, u'matter': 7, u'servic': 7, u'perform': 7, u'judgment': 7, u'unconsolid': 7, u'color': 7, u'five': 7, u'world': 7, u'two': 7, u'compon': 7, u'subsidiari': 7, u'made': 7, u'valuat': 7, u'focus': 6, u'affect': 6, u'shave': 6, u'movement': 6, u'ongo': 6, u'sinc': 6, u'purpos': 6, u'focu': 6, u'process': 6, u'tier': 6, u'trade': 6, u'excess': 6, u'primari': 6, u'razor': 6, u'stock': 6, u'take': 6, u'date': 6, u'gillett': 6, u'portion': 6, u'favor': 6, u'across': 6, u'attribut': 6, u'arrang': 6, u'uncertainti': 6, u'throughout': 6, u'statutori': 6, u'unchang': 6, u'sharehold': 6, u'within': 6, u'announc': 6, u'accordingli': 6, u'analysi': 6, u'denomin': 6, u'ad': 6, u'guidanc': 6, u'gambl': 5, u'reconcil': 5, u'work': 5, u'abl': 5, u'asia': 5, u'inher': 5, u'swap': 5, u'blade': 5, u'challeng': 5, u'sourc': 5, u'data': 5, u'better': 5, u'recogn': 5, u'driver': 5, u'retail': 5, u'store': 5, u'therefor': 5, u'senior': 5, u'nearli': 5, u'variou': 5, u'commerci': 5, u'european': 5, u'common': 5, u'see': 5, u'subject': 5, u'import': 5, u'extent': 5, u'suppli': 5, u'repatri': 5, u'proce': 5, u'execut': 5, u'except': 5, u'loss': 5, u'intern': 5, u'commit': 5, u'procter': 5, u'deduct': 5, u'venezuelan': 5, u'similar': 5, u'iberian': 5, u'supplement': 4, u'skin': 4, u'decis': 4, u'charmin': 4, u'design': 4, u'minor': 4, u'central': 4, u'effort': 4, u'appli': 4, u'sicad': 4, u'slightli': 4, u'resourc': 4, u'combin': 4, u'pay': 4, u'held': 4, u'pend': 4, u'accumul': 4, u'greater': 4, u'investor': 4, u'mean': 4, u'cadivi': 4, u'profit': 4, u'model': 4, u'given': 4, u'standard': 4, u'outsid': 4, u'drove': 4, u'capac': 4, u'bounti': 4, u'expenditur': 4, u'third': 4, u'consumpt': 4, u'function': 4, u'caus': 4, u'channel': 4, u'object': 4, u'wella': 4, u'jurisdict': 4, u'ratio': 4, u'treasuri': 4, u'asu': 4, u'volatil': 4, u'accord': 4, u'fragranc': 4, u'amort': 4, u'noncontrol': 4, u'advers': 4, u'assum': 4, u'creat': 4, u'understand': 4, u'howev': 4, u'sitm': 4, u'tabl': 4, u'sever': 4, u'complet': 4, u'audit': 4, u'discret': 4, u'win': 4, u'realiz': 4, u'remeasur': 4, u'necessari': 4, u'promot': 4, u'patent': 4, u'bond': 4, u'regard': 4, u'limit': 4, u'significantli': 4, u'exist': 4, u'correl': 4, u'matur': 4, u'chain': 3, u'month': 3, u'gb': 3, u'settlement': 3, u'consider': 3, u'reclassifi': 3, u'quarterli': 3, u'premium': 3, u'bleach': 3, u'enter': 3, u'administr': 3, u'round': 3, u'aggreg': 3, u'regulatori': 3, u'method': 3, u'led': 3, u'china': 3, u'deterior': 3, u'k': 3, u'establish': 3, u'highli': 3, u'type': 3, u'household': 3, u'india': 3, u'indic': 3, u'calcul': 3, u'panten': 3, u'meet': 3, u'accept': 3, u'laundri': 3, u'grow': 3, u'alloc': 3, u'sk': 3, u'order': 3, u'anticip': 3, u'japan': 3, u'group': 3, u'name': 3, u'separ': 3, u'polit': 3, u'healthcar': 3, u'beyond': 3, u'integr': 3, u'qualifi': 3, u'reason': 3, u'pur': 3, u'organiz': 3, u'ownership': 3, u'qualiti': 3, u'pgt': 3, u'size': 3, u'top': 3, u'system': 3, u'especi': 3, u'b': 3, u'pre': 3, u'partnership': 3, u'near': 3, u'normal': 3, u'paid': 3, u'payabl': 3, u'confid': 3, u'diaper': 3, u'set': 3, u'geographi': 3, u'fine': 3, u'either': 3, u'sustain': 3, u'outlet': 3, u'enabl': 3, u'depreci': 3, u'respons': 3, u'ceemea': 3, u'latin': 3, u'consecut': 3, u'acceler': 3, u'circumst': 3, u'demand': 3, u'deodor': 3, u'raw': 3, u'litig': 3, u'outcom': 3, u'publicli': 3, u'deterg': 3, u'metric': 3, u'ii': 3, u'make': 3, u'mani': 3, u'build': 3, u'iberia': 3, u'obtain': 3, u'around': 3, u'prefer': 3, u'fusion': 3, u'review': 3, u'shoulder': 3, u'like': 3, u'specif': 3, u'shipment': 3, u'lead': 3, u'leas': 3, u'view': 3, u'reconcili': 3, u'although': 3, u'post': 3, u'actual': 3, u'degre': 3, u'issu': 3, u'act': 3, u'industri': 3, u'trademark': 3, u'mdo': 3, u'institut': 3, u'area': 3, u'head': 3, u'form': 3, u'offer': 3, u'aa': 3, u'guarante': 3, u'intend': 3, u'e': 3, u'vick': 3, u'potenti': 3, u'koleston': 2, u'merchandis': 2, u'privat': 2, u'environment': 2, u'topic': 2, u'epil': 2, u'novemb': 2, u'toothpast': 2, u'util': 2, u'difficult': 2, u'disast': 2, u'wipe': 2, u'depositori': 2, u'respiratori': 2, u'olay': 2, u'go': 2, u'employ': 2, u'supplier': 2, u'full': 2, u'water': 2, u'along': 2, u'becom': 2, u'cover': 2, u'equiti': 2, u'action': 2, u'stand': 2, u'natura': 2, u'describ': 2, u'ariel': 2, u'prilosec': 2, u'taken': 2, u'flat': 2, u'enhanc': 2, u'exce': 2, u'auction': 2, u'histori': 2, u'occur': 2, u'differenti': 2, u'alway': 2, u'zest': 2, u'updat': 2, u'surfac': 2, u'forese': 2, u'move': 2, u'incorpor': 2, u'help': 2, u'insight': 2, u'forecast': 2, u'streamlin': 2, u'accrual': 2, u'aaik': 2, u'downi': 2, u'bank': 2, u'alreadi': 2, u'pamper': 2, u'receipt': 2, u'fluctuat': 2, u'research': 2, u'quarter': 2, u'hand': 2, u'director': 2, u'chose': 2, u'first': 2, u'rang': 2, u'restrict': 2, u'iam': 2, u'nomin': 2, u'associ': 2, u'parallel': 2, u'option': 2, u'relationship': 2, u'juli': 2, u'specifi': 2, u'accompani': 2, u'accru': 2, u'multipl': 2, u'penalti': 2, u'typic': 2, u'strengthen': 2, u'tide': 2, u'manner': 2, u'equival': 2, u'exampl': 2, u'board': 2, u'class': 2, u'mach': 2, u'outflow': 2, u'fact': 2, u'sector': 2, u'riskmetr': 2, u'particularli': 2, u'pant': 2, u'carryforward': 2, u'workforc': 2, u'target': 2, u'experi': 2, u'default': 2, u'undrawn': 2, u'summari': 2, u'respond': 2, u'float': 2, u'best': 2, u'particip': 2, u'state': 2, u'author': 2, u'approach': 2, u'perfect': 2, u'august': 2, u'numer': 2, u'vitamin': 2, u'cycl': 2, u'advertis': 2, u'satisfi': 2, u'fix': 2, u'overview': 2, u'sensit': 2, u'ultim': 2, u'strong': 2, u'interpret': 2, u'taxabl': 2, u'otc': 2, u'suscept': 2, u'case': 2, u'air': 2, u'lesser': 2, u'expir': 2, u'alon': 2, u'substanti': 2, u'duracel': 2, u'terrorist': 2, u'parti': 2, u'largest': 2, u'recal': 2, u'optim': 2, u'upon': 2, u'temporari': 2, u'moodi': 2, u'expand': 2, u'cosmet': 2, u'appropri': 2, u'prestobarba': 2, u'allow': 2, u'identifi': 2, u'human': 2, u'expos': 2, u'drive': 2, u'littl': 2, u'disrupt': 2, u'transit': 2, u'enact': 2, u'cf': 2, u'facial': 2, u'towel': 2, u'divers': 2, u'collect': 2, u'poor': 2, u'exceed': 2, u'cancel': 2, u'fourth': 2, u'agreement': 2, u'leadership': 2, u'peer': 2, u'chapter': 2, u'comparison': 2, u'cleans': 2, u'own': 2, u'book': 2, u'outlook': 2, u'doubl': 2, u'infasil': 2, u'assess': 2, u'opportun': 2, u'suffici': 2, u'trigger': 2, u'vat': 2, u'outsourc': 2, u'filtrat': 2, u'access': 2, u'us': 2, u'toilet': 2, u'adopt': 2, u'energi': 2, u'pronounc': 2, u'titl': 2, u'marketplac': 2, u'varieti': 2, u'consid': 2, u'broadli': 1, u'edg': 1, u'reinvest': 1, u'four': 1, u'unrest': 1, u'dish': 1, u'middl': 1, u'april': 1, u'th': 1, u'late': 1, u'weather': 1, u'crest': 1, u'settl': 1, u'electron': 1, u'vast': 1, u'prize': 1, u'forth': 1, u'list': 1, u'team': 1, u'esop': 1, u'complement': 1, u'fuert': 1, u'payout': 1, u'appear': 1, u'advanc': 1, u'gucci': 1, u'conduct': 1, u'appeal': 1, u'counterparti': 1, u'despit': 1, u'restat': 1, u'nonprescript': 1, u'convert': 1, u'involv': 1, u'revenu': 1, u'dri': 1, u'yield': 1, u'permit': 1, u'depart': 1, u'egypt': 1, u'solut': 1, u'africa': 1, u'vef': 1, u'commun': 1, u'regist': 1, u'upgrad': 1, u'gabbana': 1, u'registr': 1, u'club': 1, u'benchmark': 1, u'plant': 1, u'word': 1, u'restor': 1, u'paragraph': 1, u'male': 1, u'unanticip': 1, u'corollari': 1, u'critic': 1, u'unavail': 1, u'partner': 1, u'everi': 1, u'freshen': 1, u'cours': 1, u'goal': 1, u'rather': 1, u'hugo': 1, u'febrez': 1, u'classifi': 1, u'economi': 1, u'pure': 1, u'negoti': 1, u'prepar': 1, u'rise': 1, u'mortal': 1, u'minimum': 1, u'membership': 1, u'compli': 1, u'principl': 1, u'essenti': 1, u'practic': 1, u'light': 1, u'grant': 1, u'lost': 1, u'quantit': 1, u'shore': 1, u'tangibl': 1, u'mechan': 1, u'refund': 1, u'proglid': 1, u'composit': 1, u'major': 1, u'lifeblood': 1, u'flexibl': 1, u'dynam': 1, u'superior': 1, u'conjunct': 1, u'treat': 1, u'preced': 1, u'gastrointestin': 1, u'labor': 1, u'grade': 1, u'infrastructur': 1, u'cross': 1, u'argentina': 1, u'factual': 1, u'alter': 1, u'fragment': 1, u'nation': 1, u'modestli': 1, u'interrupt': 1, u'dataset': 1, u'choic': 1, u'perspect': 1, u'weight': 1, u'individu': 1, u'slowdown': 1, u'mitig': 1, u'dawn': 1, u'dispos': 1, u'shown': 1, u'creditor': 1, u'specialist': 1, u'monitor': 1, u'publish': 1, u'reader': 1, u'formula': 1, u'creditworthi': 1, u'proxi': 1, u'barrier': 1, u'written': 1, u'releas': 1, u'likelihood': 1, u'unpredict': 1, u'launch': 1, u'prescrib': 1, u'frequenc': 1, u'recov': 1, u'american': 1, u'enforc': 1, u'perman': 1, u'ltd': 1, u'retain': 1, u'refin': 1, u'thereof': 1, u'smaller': 1, u'least': 1, u'stabl': 1, u'construct': 1, u'cumul': 1, u'final': 1, u'assign': 1, u'tissu': 1, u'sign': 1, u'serv': 1, u'wide': 1, u'remov': 1, u'zero': 1, u'asean': 1, u'groceri': 1, u'pressur': 1, u'arriv': 1, u'entri': 1, u'seri': 1, u'exert': 1, u'correspond': 1, u'packag': 1, u'dedic': 1, u'element': 1, u'strength': 1, u'techniqu': 1, u'violat': 1, u'accuraci': 1, u'tool': 1, u'predominantli': 1, u'begin': 1, u'insur': 1, u'reform': 1, u'issuanc': 1, u'salari': 1, u'declar': 1, u'notion': 1, u'judg': 1, u'commerc': 1, u'awar': 1, u'retire': 1, u'reput': 1, u'intercompani': 1, u'ground': 1, u'disciplin': 1, u'perfumeri': 1, u'express': 1, u'regularli': 1, u'progress': 1, u'hostil': 1, u'borrow': 1, u'eukanuba': 1, u'valid': 1, u'heartburn': 1, u'incent': 1, u'korea': 1, u'sec': 1, u'transpar': 1, u'reserv': 1, u'brazil': 1, u'dishwash': 1, u'diversif': 1, u'teva': 1, u'label': 1, u'shaver': 1, u'sole': 1, u'boss': 1, u'toothbrush': 1, u'incident': 1, u'protect': 1, u'revers': 1, u'oversea': 1, u'equal': 1, u'drug': 1, u'chosen': 1, u'committe': 1, u'venu': 1, u'curv': 1, u'assur': 1, u'cleaner': 1, u'address': 1, u'residu': 1, u'turnov': 1, u'second': 1, u'territori': 1, u'devic': 1, u'bolivar': 1, u'ran': 1, u'electr': 1, u'regul': 1, u'eastern': 1, u'presenc': 1, u'government': 1, u'gap': 1, u'togeth': 1, u'properti': 1, u'deem': 1, u'visit': 1, u'deliveri': 1, u'advantag': 1, u'readi': 1, u'site': 1, u'antiperspir': 1, u'revis': 1, u'subleas': 1, u'minim': 1, u'medic': 1, u'multin': 1, u'complex': 1, u'itali': 1, u'split': 1, u'failur': 1, u'assist': 1, u'inflat': 1, u'strateg': 1, u'nonessenti': 1, u'extern': 1, u'implement': 1, u'incontin': 1, u'inflationari': 1, u'diversifi': 1, u'kellogg': 1, u'without': 1, u'choos': 1, u'everyth': 1, u'legisl': 1, u'explan': 1, u'provis': 1, u'select': 1, u'jv': 1, u'yet': 1, u'wage': 1, u'rapid': 1, u'zzzquil': 1, u'priorit': 1, u'treatment': 1, u'input': 1, u'east': 1, u'pharmaci': 1, u'australia': 1, u'vendor': 1, u'read': 1, u'donat': 1, u'press': 1, u'commiss': 1, u'resolv': 1, u'pharmaceut': 1, u'twelv': 1, u'divest': 1, u'italian': 1, u'right': 1, u'translat': 1, u'often': 1, u'dolc': 1, u'indirect': 1, u'miner': 1, u'previou': 1, u'undertak': 1, u'power': 1, u'worthi': 1, u'usag': 1, u'step': 1, u'drawn': 1, u'super': 1, u'deflat': 1, u'ace': 1, u'face': 1, u'crisi': 1, u'horizon': 1, u'effici': 1, u'absolut': 1, u'automat': 1, u'downturn': 1, u'sovereign': 1, u'start': 1, u'reli': 1, u'franchis': 1, u'resolut': 1, u'neutral': 1, u'game': 1, u'straight': 1, u'highest': 1, u'intellectu': 1, u'extend': 1, u'possibl': 1, u'whether': 1, u'corporatemanag': 1, u'evidenc': 1, u'adequ': 1, u'vm': 1, u'otherwis': 1, u'retir': 1, u'constant': 1, u'diagnost': 1, u'incomplet': 1, u'sponsor': 1, u'file': 1, u'mutual': 1, u'percent': 1, u'other': 1, u'began': 1, u'claus': 1, u'benefici': 1, u'intermediari': 1, u'femal': 1, u'longer': 1, u'wholli': 1, u'age': 1, u'indirectli': 1, u'influenc': 1, u'mass': 1, u'daili': 1})"
      ]
     },
     "execution_count": 18,
     "metadata": {},
     "output_type": "execute_result"
    }
   ],
   "source": [
    "word_counts[4]"
   ]
  },
  {
   "cell_type": "code",
   "execution_count": null,
   "metadata": {
    "collapsed": true
   },
   "outputs": [],
   "source": []
  }
 ],
 "metadata": {
  "kernelspec": {
   "display_name": "Python 2",
   "language": "python",
   "name": "python2"
  },
  "language_info": {
   "codemirror_mode": {
    "name": "ipython",
    "version": 2
   },
   "file_extension": ".py",
   "mimetype": "text/x-python",
   "name": "python",
   "nbconvert_exporter": "python",
   "pygments_lexer": "ipython2",
   "version": "2.7.10"
  }
 },
 "nbformat": 4,
 "nbformat_minor": 0
}
