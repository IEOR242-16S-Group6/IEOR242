{
 "cells": [
  {
   "cell_type": "code",
   "execution_count": 50,
   "metadata": {
    "collapsed": true
   },
   "outputs": [],
   "source": [
    "#!/bin/env python\n",
    "# coding: utf-8\n",
    "# company_10K_tokenization.py\n",
    "# IEOR242 Applications in Data Analytics Group 06\n",
    "# Feb 14 2016"
   ]
  },
  {
   "cell_type": "code",
   "execution_count": 51,
   "metadata": {
    "collapsed": true
   },
   "outputs": [],
   "source": [
    "import nltk\n",
    "from nltk.corpus import stopwords\n",
    "import re\n",
    "from collections import Counter"
   ]
  },
  {
   "cell_type": "code",
   "execution_count": 58,
   "metadata": {
    "collapsed": true
   },
   "outputs": [],
   "source": [
    "def word_tokenization( text_file ):\n",
    "    raw_text = open(text_file).read().decode('utf8')\n",
    "    # Stemming\n",
    "    pattern = re.compile(r'\\b(' + r'|'.join(stopwords.words('english')) + r')\\b\\s*')\n",
    "    non_stop_text = pattern.sub('', raw_text)\n",
    "    # Tokenization\n",
    "    word_token = nltk.word_tokenize(non_stop_text)\n",
    "    # Count the word frequency\n",
    "    word_count = Counter(word_token)\n",
    "    return word_count"
   ]
  },
  {
   "cell_type": "code",
   "execution_count": 56,
   "metadata": {
    "collapsed": true
   },
   "outputs": [],
   "source": [
    "# The company names and years in use\n",
    "company_years = ['CP2012', 'CP2013', 'CP2014', 'PG2012', 'PG2013']"
   ]
  },
  {
   "cell_type": "code",
   "execution_count": 57,
   "metadata": {
    "collapsed": false
   },
   "outputs": [],
   "source": [
    "# Paths to the MDNA parts from the scrapped company 10K files\n",
    "MDNA_files = [\"../data/company10k/\" + company_years[i] + \"_MDNA.txt\" for i in range(len(company_years))]"
   ]
  },
  {
   "cell_type": "code",
   "execution_count": 59,
   "metadata": {
    "collapsed": false
   },
   "outputs": [],
   "source": [
    "# Get word count of all the MDNA files\n",
    "word_counts = [word_tokenization(MDNA_files[i]) for i in range(len(MDNA_files))]"
   ]
  }
 ],
 "metadata": {
  "kernelspec": {
   "display_name": "Python 2",
   "language": "python",
   "name": "python2"
  },
  "language_info": {
   "codemirror_mode": {
    "name": "ipython",
    "version": 2
   },
   "file_extension": ".py",
   "mimetype": "text/x-python",
   "name": "python",
   "nbconvert_exporter": "python",
   "pygments_lexer": "ipython2",
   "version": "2.7.10"
  }
 },
 "nbformat": 4,
 "nbformat_minor": 0
}
