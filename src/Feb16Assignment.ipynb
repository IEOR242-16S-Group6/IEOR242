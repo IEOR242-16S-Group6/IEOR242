{
 "cells": [
  {
   "cell_type": "code",
   "execution_count": 3,
   "metadata": {
    "collapsed": true
   },
   "outputs": [],
   "source": [
    "#!/bin/env python\n",
    "# Feb16_Tokenizing.py\n",
    "# IEOR242 Applications in Data Analytics \n",
    "# Feb 14 2016"
   ]
  },
  {
   "cell_type": "code",
   "execution_count": 4,
   "metadata": {
    "collapsed": true
   },
   "outputs": [],
   "source": [
    "import nltk\n",
    "from nltk.corpus import stopwords\n",
    "#import pandas as pd"
   ]
  },
  {
   "cell_type": "code",
   "execution_count": 5,
   "metadata": {
    "collapsed": true
   },
   "outputs": [],
   "source": [
    "# Import Dictionary\n",
    "# Library = pd.DataFrame(pd.read_csv(\"../data/LoughranMcDonald_MasterDictionary_2014.csv\"))"
   ]
  },
  {
   "cell_type": "code",
   "execution_count": 6,
   "metadata": {
    "collapsed": true
   },
   "outputs": [],
   "source": [
    "# PATHS to our scrapped 10K files\n",
    "CP2012_MDNA = \"../data/company10k/CP2012_MDNA.txt\"\n",
    "CP2013_MDNA = \"../data/company10k/CP2013_MDNA.txt\"\n",
    "CP2014_MDNA = \"../data/company10k/CP2014_MDNA.txt\"\n",
    "PG2012_MDNA = \"../data/company10k/PG2012_MDNA.txt\"\n",
    "PG2013_MDNA = \"../data/company10k/PG2013_MDNA.txt\""
   ]
  },
  {
   "cell_type": "code",
   "execution_count": 7,
   "metadata": {
    "collapsed": true
   },
   "outputs": [],
   "source": [
    "def word_tokenization( text_file ):\n",
    "    text = open(text_file).read().decode('utf8')\n",
    "    word_token = nltk.word_tokenize(text)\n",
    "    return word_token"
   ]
  },
  {
   "cell_type": "code",
   "execution_count": 16,
   "metadata": {
    "collapsed": true
   },
   "outputs": [],
   "source": [
    "word_token_CP2012 = word_tokenization(PG2013_MDNA)"
   ]
  },
  {
   "cell_type": "code",
   "execution_count": 17,
   "metadata": {
    "collapsed": false
   },
   "outputs": [
    {
     "data": {
      "text/plain": [
       "[u'Item',\n",
       " u'7',\n",
       " u'.',\n",
       " u'Management',\n",
       " u\"'s\",\n",
       " u'Discussion',\n",
       " u'and',\n",
       " u'Analysis',\n",
       " u'of',\n",
       " u'Financial',\n",
       " u'Condition',\n",
       " u'and',\n",
       " u'Results',\n",
       " u'of',\n",
       " u'Operations',\n",
       " u'.',\n",
       " u'Management',\n",
       " u\"'s\",\n",
       " u'Discussion',\n",
       " u'and',\n",
       " u'Analysis',\n",
       " u'Forward-Looking',\n",
       " u'Statements',\n",
       " u'Certain',\n",
       " u'statements',\n",
       " u'in',\n",
       " u'this',\n",
       " u'report',\n",
       " u',',\n",
       " u'other']"
      ]
     },
     "execution_count": 17,
     "metadata": {},
     "output_type": "execute_result"
    }
   ],
   "source": [
    "word_token_CP2012[:30]"
   ]
  },
  {
   "cell_type": "code",
   "execution_count": null,
   "metadata": {
    "collapsed": true
   },
   "outputs": [],
   "source": []
  }
 ],
 "metadata": {
  "kernelspec": {
   "display_name": "Python 2",
   "language": "python",
   "name": "python2"
  },
  "language_info": {
   "codemirror_mode": {
    "name": "ipython",
    "version": 2
   },
   "file_extension": ".py",
   "mimetype": "text/x-python",
   "name": "python",
   "nbconvert_exporter": "python",
   "pygments_lexer": "ipython2",
   "version": "2.7.10"
  }
 },
 "nbformat": 4,
 "nbformat_minor": 0
}
